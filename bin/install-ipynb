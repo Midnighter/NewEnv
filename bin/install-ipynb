#!/usr/bin/env zsh

set -eux

packages=(
    jupyter
    jupyter-contrib-nbextensions
    jupyter-nbextensions-configurator
    ipywidgets
    yapf
)

pip install --upgrade "${packages[@]}"
jupyter contrib nbextension install --sys-prefix
jupyter nbextensions_configurator enable
jupyter nbextension enable --py --sys-prefix widgetsnbextension
